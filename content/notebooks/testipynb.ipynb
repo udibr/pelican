{
 "metadata": {
  "name": "",
  "signature": "sha256:46b209f0fb3ddcb12b14536a687dc7b7c0cc77e2ec87f0c3bcbc6f1fd0037cde"
 },
 "nbformat": 3,
 "nbformat_minor": 0,
 "worksheets": [
  {
   "cells": [
    {
     "cell_type": "code",
     "collapsed": false,
     "input": [
      "a=1\n",
      "b=2"
     ],
     "language": "python",
     "metadata": {},
     "outputs": [],
     "prompt_number": 1
    },
    {
     "cell_type": "code",
     "collapsed": false,
     "input": [
      "a*b"
     ],
     "language": "python",
     "metadata": {},
     "outputs": [
      {
       "metadata": {},
       "output_type": "pyout",
       "prompt_number": 2,
       "text": [
        "2"
       ]
      }
     ],
     "prompt_number": 2
    },
    {
     "cell_type": "markdown",
     "metadata": {},
     "source": [
      "Math code example inside a notebook cell $\\pi^i_j$"
     ]
    }
   ],
   "metadata": {}
  }
 ]
}